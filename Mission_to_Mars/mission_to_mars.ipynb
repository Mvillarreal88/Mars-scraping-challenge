{
 "cells": [
  {
   "cell_type": "code",
   "execution_count": 1,
   "id": "25183d37",
   "metadata": {},
   "outputs": [],
   "source": [
    "from splinter import Browser\n",
    "from bs4 import BeautifulSoup as bs\n",
    "import time\n",
    "import pandas as pd\n",
    "from webdriver_manager.chrome import ChromeDriverManager\n",
    "import pymongo\n",
    "import requests"
   ]
  },
  {
   "cell_type": "code",
   "execution_count": 2,
   "id": "9c9f3bc6",
   "metadata": {},
   "outputs": [
    {
     "name": "stderr",
     "output_type": "stream",
     "text": [
      "\n",
      "\n",
      "====== WebDriver manager ======\n",
      "Current google-chrome version is 93.0.4577\n",
      "Get LATEST driver version for 93.0.4577\n",
      "Driver [C:\\Users\\Matt\\.wdm\\drivers\\chromedriver\\win32\\93.0.4577.63\\chromedriver.exe] found in cache\n"
     ]
    }
   ],
   "source": [
    "# Set up Splinter\n",
    "executable_path = {'executable_path': ChromeDriverManager().install()}\n",
    "browser = Browser('chrome', **executable_path, headless=False)\n"
   ]
  },
  {
   "cell_type": "code",
   "execution_count": 3,
   "id": "90715d63",
   "metadata": {},
   "outputs": [],
   "source": [
    "    # Visit URL\n",
    "    url = \"https://redplanetscience.com/\"\n",
    "    browser.visit(url)\n",
    "    soup = bs(browser.html, 'lxml')"
   ]
  },
  {
   "cell_type": "markdown",
   "id": "71b08c12",
   "metadata": {},
   "source": [
    "**Mars News**"
   ]
  },
  {
   "cell_type": "code",
   "execution_count": 4,
   "id": "5be957c8",
   "metadata": {},
   "outputs": [
    {
     "name": "stdout",
     "output_type": "stream",
     "text": [
      "NASA Updates Mars 2020 Mission Environmental Review\n",
      "NASA and the Department of Energy have completed a more detailed risk analysis for the Mars 2020 rover launch from Florida.\n"
     ]
    }
   ],
   "source": [
    "#NASA MARs NEWS\n",
    "news_title = soup.find(\"div\", class_ = \"content_title\").text\n",
    "news_paragraph = soup.find(\"div\", class_ = \"article_teaser_body\").text\n",
    "\n",
    "# Display scrapped news \n",
    "print(news_title)\n",
    "print(news_paragraph)"
   ]
  },
  {
   "cell_type": "markdown",
   "id": "9d8f730b",
   "metadata": {},
   "source": [
    "**Mars space image**"
   ]
  },
  {
   "cell_type": "code",
   "execution_count": 5,
   "id": "6daf31d3",
   "metadata": {},
   "outputs": [
    {
     "name": "stdout",
     "output_type": "stream",
     "text": [
      "Mars Space Image\n",
      "-----------------------------------------\n",
      "https://spaceimages-mars.com/\n"
     ]
    }
   ],
   "source": [
    "# Visit Image url through splinter module\n",
    "url_marsimage = \"https://spaceimages-mars.com/\"\n",
    "browser.visit(url_marsimage)\n",
    "\n",
    "# HTML Object\n",
    "img_html = browser.html\n",
    "img_soup = bs(img_html, \"html.parser\")\n",
    "\n",
    "# Find image url to the full size\n",
    "featured_image = img_soup.find(\"img\", class_ = \"headerimage fade-in\").text\n",
    "\n",
    "# Display url of the full image\n",
    "featured_image_url = f\"https://spaceimages-mars.com/{featured_image}\"\n",
    "print(\"Mars Space Image\")\n",
    "print(\"-----------------------------------------\")\n",
    "print(featured_image_url)\n",
    "\n"
   ]
  },
  {
   "cell_type": "markdown",
   "id": "148f617b",
   "metadata": {},
   "source": [
    "**Mars facts**"
   ]
  },
  {
   "cell_type": "code",
   "execution_count": 6,
   "id": "22eb1429",
   "metadata": {},
   "outputs": [
    {
     "data": {
      "text/html": [
       "<div>\n",
       "<style scoped>\n",
       "    .dataframe tbody tr th:only-of-type {\n",
       "        vertical-align: middle;\n",
       "    }\n",
       "\n",
       "    .dataframe tbody tr th {\n",
       "        vertical-align: top;\n",
       "    }\n",
       "\n",
       "    .dataframe thead th {\n",
       "        text-align: right;\n",
       "    }\n",
       "</style>\n",
       "<table border=\"1\" class=\"dataframe\">\n",
       "  <thead>\n",
       "    <tr style=\"text-align: right;\">\n",
       "      <th></th>\n",
       "      <th>Mars</th>\n",
       "      <th>Earth</th>\n",
       "    </tr>\n",
       "    <tr>\n",
       "      <th>Description</th>\n",
       "      <th></th>\n",
       "      <th></th>\n",
       "    </tr>\n",
       "  </thead>\n",
       "  <tbody>\n",
       "    <tr>\n",
       "      <th>Mars - Earth Comparison</th>\n",
       "      <td>Mars</td>\n",
       "      <td>Earth</td>\n",
       "    </tr>\n",
       "    <tr>\n",
       "      <th>Diameter:</th>\n",
       "      <td>6,779 km</td>\n",
       "      <td>12,742 km</td>\n",
       "    </tr>\n",
       "    <tr>\n",
       "      <th>Mass:</th>\n",
       "      <td>6.39 × 10^23 kg</td>\n",
       "      <td>5.97 × 10^24 kg</td>\n",
       "    </tr>\n",
       "    <tr>\n",
       "      <th>Moons:</th>\n",
       "      <td>2</td>\n",
       "      <td>1</td>\n",
       "    </tr>\n",
       "    <tr>\n",
       "      <th>Distance from Sun:</th>\n",
       "      <td>227,943,824 km</td>\n",
       "      <td>149,598,262 km</td>\n",
       "    </tr>\n",
       "    <tr>\n",
       "      <th>Length of Year:</th>\n",
       "      <td>687 Earth days</td>\n",
       "      <td>365.24 days</td>\n",
       "    </tr>\n",
       "    <tr>\n",
       "      <th>Temperature:</th>\n",
       "      <td>-87 to -5 °C</td>\n",
       "      <td>-88 to 58°C</td>\n",
       "    </tr>\n",
       "  </tbody>\n",
       "</table>\n",
       "</div>"
      ],
      "text/plain": [
       "                                    Mars            Earth\n",
       "Description                                              \n",
       "Mars - Earth Comparison             Mars            Earth\n",
       "Diameter:                       6,779 km        12,742 km\n",
       "Mass:                    6.39 × 10^23 kg  5.97 × 10^24 kg\n",
       "Moons:                                 2                1\n",
       "Distance from Sun:        227,943,824 km   149,598,262 km\n",
       "Length of Year:           687 Earth days      365.24 days\n",
       "Temperature:                -87 to -5 °C      -88 to 58°C"
      ]
     },
     "execution_count": 6,
     "metadata": {},
     "output_type": "execute_result"
    }
   ],
   "source": [
    "# Visit the galaxy Facts webpage and use Pandas to scrape the table\n",
    "url_facts = \"https://galaxyfacts-mars.com/\"\n",
    "\n",
    "\n",
    "# Use Pandas to scrape tabular data from a page\n",
    "mars_facts = pd.read_html(url_facts)\n",
    "\n",
    "mars_df = mars_facts[0]\n",
    "\n",
    "mars_df.columns = [\"Description\", \"Mars\", \"Earth\"]\n",
    "mars_df.set_index(\"Description\", inplace=True)\n",
    "mars_df"
   ]
  },
  {
   "cell_type": "code",
   "execution_count": 7,
   "id": "67a3e79e",
   "metadata": {},
   "outputs": [
    {
     "name": "stdout",
     "output_type": "stream",
     "text": [
      "<table border=\"1\" class=\"dataframe table table-striped\">\n",
      "  <thead>\n",
      "    <tr style=\"text-align: right;\">\n",
      "      <th></th>\n",
      "      <th>Mars</th>\n",
      "      <th>Earth</th>\n",
      "    </tr>\n",
      "    <tr>\n",
      "      <th>Description</th>\n",
      "      <th></th>\n",
      "      <th></th>\n",
      "    </tr>\n",
      "  </thead>\n",
      "  <tbody>\n",
      "    <tr>\n",
      "      <th>Mars - Earth Comparison</th>\n",
      "      <td>Mars</td>\n",
      "      <td>Earth</td>\n",
      "    </tr>\n",
      "    <tr>\n",
      "      <th>Diameter:</th>\n",
      "      <td>6,779 km</td>\n",
      "      <td>12,742 km</td>\n",
      "    </tr>\n",
      "    <tr>\n",
      "      <th>Mass:</th>\n",
      "      <td>6.39 × 10^23 kg</td>\n",
      "      <td>5.97 × 10^24 kg</td>\n",
      "    </tr>\n",
      "    <tr>\n",
      "      <th>Moons:</th>\n",
      "      <td>2</td>\n",
      "      <td>1</td>\n",
      "    </tr>\n",
      "    <tr>\n",
      "      <th>Distance from Sun:</th>\n",
      "      <td>227,943,824 km</td>\n",
      "      <td>149,598,262 km</td>\n",
      "    </tr>\n",
      "    <tr>\n",
      "      <th>Length of Year:</th>\n",
      "      <td>687 Earth days</td>\n",
      "      <td>365.24 days</td>\n",
      "    </tr>\n",
      "    <tr>\n",
      "      <th>Temperature:</th>\n",
      "      <td>-87 to -5 °C</td>\n",
      "      <td>-88 to 58°C</td>\n",
      "    </tr>\n",
      "  </tbody>\n",
      "</table>\n"
     ]
    }
   ],
   "source": [
    "html_facts = mars_df.to_html()\n",
    "\n",
    "# clean up the table\n",
    "html_facts.replace(\"\\n\", '')\n",
    "\n",
    "# Save html code\n",
    "mars_df.to_html(\"mars_facts_data.html\")\n",
    "\n",
    "html_facts = mars_df.to_html(classes = 'table table-striped')\n",
    "print(html_facts)"
   ]
  },
  {
   "cell_type": "markdown",
   "id": "8d731aaa",
   "metadata": {},
   "source": [
    "**Mars Hemispheres pictures**"
   ]
  },
  {
   "cell_type": "code",
   "execution_count": 9,
   "id": "2bf74c2a",
   "metadata": {},
   "outputs": [
    {
     "name": "stdout",
     "output_type": "stream",
     "text": [
      "[{'image_url': 'https://marshemispheres.com/images/full.jpg', 'pic_title': 'Cerberus Hemisphere Enhanced'}, {'image_url': 'https://marshemispheres.com/images/schiaparelli_enhanced-full.jpg', 'pic_title': 'Schiaparelli Hemisphere Enhanced'}, {'image_url': 'https://marshemispheres.com/images/syrtis_major_enhanced-full.jpg', 'pic_title': 'Syrtis Major Hemisphere Enhanced'}, {'image_url': 'https://marshemispheres.com/images/valles_marineris_enhanced-full.jpg', 'pic_title': 'Valles Marineris Hemisphere Enhanced'}]\n"
     ]
    }
   ],
   "source": [
    "# Visit the hemisphere site\n",
    "url_hem = \"https://marshemispheres.com/\"\n",
    "hem_response = requests.get(url_hem)\n",
    "hem_soup = bs(hem_response.text, 'html.parser')\n",
    "\n",
    "browser.visit(url_hem)\n",
    "\n",
    "hem_img_urls = []\n",
    "\n",
    "hem_links = browser.find_by_css('a.product-item img')\n",
    "\n",
    "for link in range(len(hem_links)):\n",
    "        browser.find_by_css('a.product-item img')[link].click()\n",
    "        image = browser.links.find_by_text(\"Sample\").first\n",
    "        \n",
    "        image_url = image['href']\n",
    "        pic_title = browser.find_by_css(\"h2.title\").text\n",
    "        hem_img_urls.append({\"image_url\": image_url, \"pic_title\": pic_title})\n",
    "        browser.back()\n",
    "        \n",
    "\n",
    "print(hem_img_urls)"
   ]
  },
  {
   "cell_type": "code",
   "execution_count": null,
   "id": "2f970434",
   "metadata": {},
   "outputs": [],
   "source": []
  }
 ],
 "metadata": {
  "kernelspec": {
   "display_name": "Python [conda env:PythonData] *",
   "language": "python",
   "name": "conda-env-PythonData-py"
  },
  "language_info": {
   "codemirror_mode": {
    "name": "ipython",
    "version": 3
   },
   "file_extension": ".py",
   "mimetype": "text/x-python",
   "name": "python",
   "nbconvert_exporter": "python",
   "pygments_lexer": "ipython3",
   "version": "3.6.10"
  }
 },
 "nbformat": 4,
 "nbformat_minor": 5
}
