{
 "cells": [
  {
   "cell_type": "code",
   "execution_count": 1,
   "id": "25183d37",
   "metadata": {},
   "outputs": [],
   "source": [
    "from splinter import Browser\n",
    "from bs4 import BeautifulSoup as bs\n",
    "import time\n",
    "import pandas as pd\n",
    "from webdriver_manager.chrome import ChromeDriverManager\n",
    "import pymongo\n",
    "import requests"
   ]
  },
  {
   "cell_type": "code",
   "execution_count": 2,
   "id": "6e3e0556",
   "metadata": {},
   "outputs": [
    {
     "name": "stderr",
     "output_type": "stream",
     "text": [
      "\n",
      "\n",
      "====== WebDriver manager ======\n",
      "Current google-chrome version is 93.0.4577\n",
      "Get LATEST driver version for 93.0.4577\n",
      "Driver [C:\\Users\\Matt\\.wdm\\drivers\\chromedriver\\win32\\93.0.4577.63\\chromedriver.exe] found in cache\n"
     ]
    }
   ],
   "source": [
    "# Set up Splinter\n",
    "executable_path = {'executable_path': ChromeDriverManager().install()}\n",
    "browser = Browser('chrome', **executable_path, headless=False)\n"
   ]
  },
  {
   "cell_type": "code",
   "execution_count": 3,
   "id": "a9d8ff06",
   "metadata": {},
   "outputs": [],
   "source": [
    "    # Visit URL\n",
    "    url = \"https://redplanetscience.com/\"\n",
    "    browser.visit(url)\n",
    "    soup = bs(browser.html, 'lxml')"
   ]
  },
  {
   "cell_type": "markdown",
   "id": "b40f39bd",
   "metadata": {},
   "source": [
    "**Mars News**"
   ]
  },
  {
   "cell_type": "code",
   "execution_count": 4,
   "id": "37b9fca3",
   "metadata": {},
   "outputs": [
    {
     "name": "stdout",
     "output_type": "stream",
     "text": [
      "NASA's Curiosity Keeps Rolling As Team Operates Rover From Home\n",
      "The team has learned to meet new challenges as they work remotely on the Mars mission.\n"
     ]
    }
   ],
   "source": [
    "#NASA MARs NEWS\n",
    "news_title = soup.find(\"div\", class_ = \"content_title\").text\n",
    "news_paragraph = soup.find(\"div\", class_ = \"article_teaser_body\").text\n",
    "\n",
    "# Display scrapped news \n",
    "print(news_title)\n",
    "print(news_paragraph)"
   ]
  },
  {
   "cell_type": "markdown",
   "id": "972fa9e3",
   "metadata": {},
   "source": [
    "**Mars space image**"
   ]
  },
  {
   "cell_type": "code",
   "execution_count": 8,
   "id": "d4ad66b0",
   "metadata": {},
   "outputs": [
    {
     "name": "stdout",
     "output_type": "stream",
     "text": [
      "Mars Space Image\n",
      "-----------------------------------------\n",
      "https://spaceimages-mars.com/\n"
     ]
    }
   ],
   "source": [
    "# Visit Image url through splinter module\n",
    "url_marsimage = \"https://spaceimages-mars.com/\"\n",
    "browser.visit(url_marsimage)\n",
    "\n",
    "# HTML Object\n",
    "img_html = browser.html\n",
    "img_soup = bs(img_html, \"html.parser\")\n",
    "\n",
    "# Find image url to the full size\n",
    "featured_image = img_soup.find(\"img\", class_ = \"headerimage fade-in\").text\n",
    "\n",
    "# Display url of the full image\n",
    "featured_image_url = f\"https://spaceimages-mars.com/{featured_image}\"\n",
    "print(\"Mars Space Image\")\n",
    "print(\"-----------------------------------------\")\n",
    "print(featured_image_url)\n",
    "\n"
   ]
  },
  {
   "cell_type": "markdown",
   "id": "80ab9015",
   "metadata": {},
   "source": [
    "**Mars facts**"
   ]
  },
  {
   "cell_type": "code",
   "execution_count": null,
   "id": "23535ea7",
   "metadata": {},
   "outputs": [],
   "source": []
  }
 ],
 "metadata": {
  "kernelspec": {
   "display_name": "Python [conda env:PythonData] *",
   "language": "python",
   "name": "conda-env-PythonData-py"
  },
  "language_info": {
   "codemirror_mode": {
    "name": "ipython",
    "version": 3
   },
   "file_extension": ".py",
   "mimetype": "text/x-python",
   "name": "python",
   "nbconvert_exporter": "python",
   "pygments_lexer": "ipython3",
   "version": "3.6.10"
  }
 },
 "nbformat": 4,
 "nbformat_minor": 5
}
